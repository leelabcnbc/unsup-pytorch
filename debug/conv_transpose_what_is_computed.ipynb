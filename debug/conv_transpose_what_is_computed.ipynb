{
 "cells": [
  {
   "cell_type": "markdown",
   "metadata": {},
   "source": [
    "https://github.com/leelabcnbc/unsup-pytorch/issues/2"
   ]
  },
  {
   "cell_type": "code",
   "execution_count": 1,
   "metadata": {},
   "outputs": [],
   "source": [
    "import numpy as np\n",
    "from torch import FloatTensor\n",
    "from torch.autograd import Variable\n",
    "from torch.nn.functional import mse_loss, conv2d"
   ]
  },
  {
   "cell_type": "code",
   "execution_count": 2,
   "metadata": {},
   "outputs": [],
   "source": [
    "from torch.nn import ConvTranspose2d"
   ]
  },
  {
   "cell_type": "code",
   "execution_count": 3,
   "metadata": {},
   "outputs": [],
   "source": [
    "from scipy.signal import convolve"
   ]
  },
  {
   "cell_type": "code",
   "execution_count": 4,
   "metadata": {},
   "outputs": [],
   "source": [
    "import torch"
   ]
  },
  {
   "cell_type": "code",
   "execution_count": 5,
   "metadata": {},
   "outputs": [],
   "source": [
    "_ = torch.manual_seed(0)"
   ]
  },
  {
   "cell_type": "code",
   "execution_count": 6,
   "metadata": {},
   "outputs": [],
   "source": [
    "num_channel_code = 4\n",
    "kernel_size = 9\n",
    "input_this = FloatTensor(1, num_channel_code, 17, 17)\n",
    "_ = input_this.normal_(0, 1)"
   ]
  },
  {
   "cell_type": "code",
   "execution_count": 7,
   "metadata": {},
   "outputs": [],
   "source": [
    "def forward():\n",
    "    code_to_image_layer = ConvTranspose2d(num_channel_code, 1, kernel_size, bias=False)\n",
    "    input_var = Variable(input_this, requires_grad=True)\n",
    "    output_now = code_to_image_layer(input_var).data.numpy()[0,0]\n",
    "    print(output_now.shape)\n",
    "    \n",
    "    # try to replicate the result using naive `convolve` in `scipy.signal`\n",
    "    weight_this = code_to_image_layer.weight.data.numpy()[:,0]\n",
    "    print(weight_this.shape)\n",
    "    input_this_np = input_var.data.numpy()[0]\n",
    "    print(input_this_np.shape)\n",
    "    \n",
    "    output_ref = np.zeros_like(output_now, dtype=np.float64)\n",
    "    assert weight_this.shape[0] == input_this_np.shape[0]\n",
    "    for weight_this_slice, input_this_np_slice in zip(weight_this, input_this_np):\n",
    "        # these two are the same.\n",
    "#         output_ref += convolve(input_this_np_slice, weight_this_slice)\n",
    "        output_ref += convolve(weight_this_slice, input_this_np_slice)\n",
    "    assert output_now.shape == output_ref.shape\n",
    "    print(abs(output_now-output_ref).max())\n",
    "    assert abs(output_now-output_ref).max()<1e-6"
   ]
  },
  {
   "cell_type": "code",
   "execution_count": 8,
   "metadata": {
    "scrolled": true
   },
   "outputs": [
    {
     "name": "stdout",
     "output_type": "stream",
     "text": [
      "(25, 25)\n",
      "(4, 9, 9)\n",
      "(4, 17, 17)\n",
      "6.25848770142e-07\n"
     ]
    }
   ],
   "source": [
    "forward()"
   ]
  }
 ],
 "metadata": {
  "kernelspec": {
   "display_name": "Python 3",
   "language": "python",
   "name": "python3"
  },
  "language_info": {
   "codemirror_mode": {
    "name": "ipython",
    "version": 3
   },
   "file_extension": ".py",
   "mimetype": "text/x-python",
   "name": "python",
   "nbconvert_exporter": "python",
   "pygments_lexer": "ipython3",
   "version": "3.6.4"
  }
 },
 "nbformat": 4,
 "nbformat_minor": 2
}
