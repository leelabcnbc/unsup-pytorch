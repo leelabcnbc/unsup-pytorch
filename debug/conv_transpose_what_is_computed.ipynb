{
 "cells": [
  {
   "cell_type": "markdown",
   "metadata": {},
   "source": [
    "https://github.com/leelabcnbc/unsup-pytorch/issues/2\n",
    "\n",
    "so the computation done is actually a convolution (with one input flipped).\n",
    "\n",
    "but depending on how you think about it, it may not be flipped.\n",
    "\n",
    "check the end"
   ]
  },
  {
   "cell_type": "code",
   "execution_count": 1,
   "metadata": {},
   "outputs": [],
   "source": [
    "import numpy as np\n",
    "from torch import FloatTensor\n",
    "from torch.autograd import Variable\n",
    "from torch.nn.functional import mse_loss, conv2d"
   ]
  },
  {
   "cell_type": "code",
   "execution_count": 2,
   "metadata": {},
   "outputs": [],
   "source": [
    "from torch.nn import ConvTranspose2d"
   ]
  },
  {
   "cell_type": "code",
   "execution_count": 3,
   "metadata": {},
   "outputs": [],
   "source": [
    "from scipy.signal import convolve"
   ]
  },
  {
   "cell_type": "code",
   "execution_count": 4,
   "metadata": {},
   "outputs": [],
   "source": [
    "import torch"
   ]
  },
  {
   "cell_type": "code",
   "execution_count": 5,
   "metadata": {},
   "outputs": [],
   "source": [
    "_ = torch.manual_seed(0)"
   ]
  },
  {
   "cell_type": "code",
   "execution_count": 6,
   "metadata": {},
   "outputs": [],
   "source": [
    "num_channel_code = 4\n",
    "kernel_size = 9\n",
    "input_this = FloatTensor(1, num_channel_code, 17, 17)\n",
    "_ = input_this.normal_(0, 1)"
   ]
  },
  {
   "cell_type": "code",
   "execution_count": 7,
   "metadata": {},
   "outputs": [],
   "source": [
    "def forward():\n",
    "    code_to_image_layer = ConvTranspose2d(num_channel_code, 1, kernel_size, bias=False)\n",
    "    input_var = Variable(input_this, requires_grad=True)\n",
    "    output_now = code_to_image_layer(input_var).data.numpy()[0,0]\n",
    "    print(output_now.shape)\n",
    "    \n",
    "    # try to replicate the result using naive `convolve` in `scipy.signal`\n",
    "    weight_this = code_to_image_layer.weight.data.numpy()[:,0]\n",
    "    print(weight_this.shape)\n",
    "    input_this_np = input_var.data.numpy()[0]\n",
    "    print(input_this_np.shape)\n",
    "    \n",
    "    output_ref = np.zeros_like(output_now, dtype=np.float64)\n",
    "    assert weight_this.shape[0] == input_this_np.shape[0]\n",
    "    for weight_this_slice, input_this_np_slice in zip(weight_this, input_this_np):\n",
    "        # these two are the same.\n",
    "#         output_ref += convolve(input_this_np_slice, weight_this_slice)\n",
    "        output_ref += convolve(weight_this_slice, input_this_np_slice)\n",
    "    assert output_now.shape == output_ref.shape\n",
    "    print(abs(output_now-output_ref).max())\n",
    "    assert abs(output_now-output_ref).max()<1e-6"
   ]
  },
  {
   "cell_type": "code",
   "execution_count": 8,
   "metadata": {
    "scrolled": true
   },
   "outputs": [
    {
     "name": "stdout",
     "output_type": "stream",
     "text": [
      "(25, 25)\n",
      "(4, 9, 9)\n",
      "(4, 17, 17)\n",
      "6.25848770142e-07\n"
     ]
    }
   ],
   "source": [
    "forward()"
   ]
  },
  {
   "cell_type": "code",
   "execution_count": 9,
   "metadata": {},
   "outputs": [],
   "source": [
    "# suppose our code is [[1,1], [1,1]]\n",
    "# and weight is [[1,2,3],\n",
    "#                [4,5,6],\n",
    "#                [7,8,9]]\n",
    "# let's see how each code contributes to the convolution.\n",
    "# \n",
    "\n",
    "def forward_debug():\n",
    "    \n",
    "    input_debug_np = np.ones((2,2)).reshape(1,1,2,2).astype(np.float64)\n",
    "    weight_debug_np = (np.arange(9)+1).reshape(1,1,3,3).astype(np.float64)\n",
    "    \n",
    "    code_to_image_layer = ConvTranspose2d(1, 1, 3, bias=False)\n",
    "    assert code_to_image_layer.weight.size() == (1,1,3,3)\n",
    "    code_to_image_layer.weight.data[...] = FloatTensor(weight_debug_np)\n",
    "    \n",
    "    input_var = Variable(FloatTensor(input_debug_np))\n",
    "    output_now = code_to_image_layer(input_var).data.numpy()[0,0]\n",
    "#     print(output_now.shape)\n",
    "    print(output_now)\n",
    "    \n",
    "    \n",
    "    \n",
    "    input_this_np = input_debug_np[0,0]\n",
    "    weight_this = weight_debug_np[0,0]\n",
    "    print(weight_this)\n",
    "    \n",
    "    output_ref = np.zeros_like(output_now, dtype=np.float64)\n",
    "    output_ref += convolve(weight_this, input_this_np)\n",
    "    assert output_now.shape == output_ref.shape\n",
    "    print(abs(output_now-output_ref).max())\n",
    "    assert abs(output_now-output_ref).max()<1e-6\n",
    "    \n",
    "    # then let's compute it another way, decomposing the code.\n",
    "    output_ref_2 = np.zeros_like(output_now, dtype=np.float64)\n",
    "    for idx in range(4):\n",
    "        input_this_np_hole = np.zeros(4, dtype=np.float64)\n",
    "        input_this_np_hole[idx] = 1\n",
    "        input_this_np_hole = input_this_np_hole.reshape(2,2)\n",
    "        output_ref_2_this_section = convolve(weight_this, input_this_np_hole)\n",
    "        print(idx)\n",
    "        print(input_this_np_hole)\n",
    "        print(output_ref_2_this_section)\n",
    "        output_ref_2 += output_ref_2_this_section\n",
    "        \n",
    "    assert output_now.shape == output_ref_2.shape\n",
    "    print(abs(output_now-output_ref_2).max())\n",
    "    assert abs(output_now-output_ref_2).max()<1e-6"
   ]
  },
  {
   "cell_type": "code",
   "execution_count": 10,
   "metadata": {
    "scrolled": false
   },
   "outputs": [
    {
     "name": "stdout",
     "output_type": "stream",
     "text": [
      "[[  1.   3.   5.   3.]\n",
      " [  5.  12.  16.   9.]\n",
      " [ 11.  24.  28.  15.]\n",
      " [  7.  15.  17.   9.]]\n",
      "[[ 1.  2.  3.]\n",
      " [ 4.  5.  6.]\n",
      " [ 7.  8.  9.]]\n",
      "0.0\n",
      "0\n",
      "[[ 1.  0.]\n",
      " [ 0.  0.]]\n",
      "[[ 1.  2.  3.  0.]\n",
      " [ 4.  5.  6.  0.]\n",
      " [ 7.  8.  9.  0.]\n",
      " [ 0.  0.  0.  0.]]\n",
      "1\n",
      "[[ 0.  1.]\n",
      " [ 0.  0.]]\n",
      "[[ 0.  1.  2.  3.]\n",
      " [ 0.  4.  5.  6.]\n",
      " [ 0.  7.  8.  9.]\n",
      " [ 0.  0.  0.  0.]]\n",
      "2\n",
      "[[ 0.  0.]\n",
      " [ 1.  0.]]\n",
      "[[ 0.  0.  0.  0.]\n",
      " [ 1.  2.  3.  0.]\n",
      " [ 4.  5.  6.  0.]\n",
      " [ 7.  8.  9.  0.]]\n",
      "3\n",
      "[[ 0.  0.]\n",
      " [ 0.  1.]]\n",
      "[[ 0.  0.  0.  0.]\n",
      " [ 0.  1.  2.  3.]\n",
      " [ 0.  4.  5.  6.]\n",
      " [ 0.  7.  8.  9.]]\n",
      "0.0\n"
     ]
    }
   ],
   "source": [
    "forward_debug()"
   ]
  }
 ],
 "metadata": {
  "kernelspec": {
   "display_name": "Python 3",
   "language": "python",
   "name": "python3"
  },
  "language_info": {
   "codemirror_mode": {
    "name": "ipython",
    "version": 3
   },
   "file_extension": ".py",
   "mimetype": "text/x-python",
   "name": "python",
   "nbconvert_exporter": "python",
   "pygments_lexer": "ipython3",
   "version": "3.6.4"
  }
 },
 "nbformat": 4,
 "nbformat_minor": 2
}
